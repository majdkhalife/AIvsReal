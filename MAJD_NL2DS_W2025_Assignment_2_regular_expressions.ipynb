{
  "cells": [
    {
      "cell_type": "markdown",
      "metadata": {
        "id": "view-in-github",
        "colab_type": "text"
      },
      "source": [
        "<a href=\"https://colab.research.google.com/github/majdkhalife/AIvsReal/blob/main/MAJD_NL2DS_W2025_Assignment_2_regular_expressions.ipynb\" target=\"_parent\"><img src=\"https://colab.research.google.com/assets/colab-badge.svg\" alt=\"Open In Colab\"/></a>"
      ]
    },
    {
      "cell_type": "markdown",
      "metadata": {
        "id": "jpPo-0zjUGkA"
      },
      "source": [
        "# Problem 1\n",
        "\n",
        "\n",
        "---\n",
        "\n"
      ]
    },
    {
      "cell_type": "markdown",
      "metadata": {
        "id": "EORfPYZbhqyf"
      },
      "source": [
        "\n",
        "Write regular expressions that match the output strings in the given set of input strings.\n",
        "\n",
        "\n",
        "#### Problem 1.1\n",
        "Input:\n",
        "```\n",
        "ababababab\n",
        "abb\n",
        "bbabaa\n",
        "bba\n",
        "abbabb\n",
        "```\n",
        "\n",
        "Output:\n",
        "```\n",
        "abb\n",
        "abbabb\n",
        "```\n",
        "\n",
        "Note: Do not use the regular expression which resembles `(word1|word2)` to handle each case individually. This defeats the purpose of the regular expression."
      ]
    },
    {
      "cell_type": "code",
      "execution_count": 59,
      "metadata": {
        "colab": {
          "base_uri": "https://localhost:8080/"
        },
        "id": "s3fasx98SqmM",
        "outputId": "d629aa5f-7628-4cd1-c72d-dd73d5144b85"
      },
      "outputs": [
        {
          "output_type": "stream",
          "name": "stdout",
          "text": [
            "abb\n",
            "abbabb\n"
          ]
        }
      ],
      "source": [
        "import re\n",
        "\n",
        "words = [\"ababababab\", \"abb\", \"bbabaa\", \"bba\", \"abbabb\"]\n",
        "pattern = re.compile(\"abb.*\") # no need to complicate our lives here, we see that our output is of the form abb(other letters), so this simple regex is all we need\n",
        "for word in words:\n",
        "  if pattern.match(word):\n",
        "    print(word)"
      ]
    },
    {
      "cell_type": "markdown",
      "metadata": {
        "id": "alK7uvOIV0bn"
      },
      "source": [
        "#### Problem 1.2\n",
        "Input:\n",
        "```\n",
        "abc\n",
        "bc\n",
        "ab\n",
        "aabbcc\n",
        "abbbbbbbb\n",
        "ccbbaa\n",
        "```\n",
        "\n",
        "Output:\n",
        "```\n",
        "abc\n",
        "ab\n",
        "abbbbbbbb\n",
        "```"
      ]
    },
    {
      "cell_type": "code",
      "execution_count": 2,
      "metadata": {
        "colab": {
          "base_uri": "https://localhost:8080/"
        },
        "id": "iX-nXRtzWkKr",
        "outputId": "0a89ae07-5882-48ba-cdac-6252583bfe6a"
      },
      "outputs": [
        {
          "output_type": "stream",
          "name": "stdout",
          "text": [
            "abc\n",
            "ab\n",
            "abbbbbbbb\n"
          ]
        }
      ],
      "source": [
        "words = [\"abc\", \"bc\", \"ab\", \"aabbcc\", \"abbbbbbbb\", \"ccbbaa\"]\n",
        "pattern = re.compile(\"ab.*\") #same as first, no need to complicate our lives as they are complicated enough\n",
        "for word in words:\n",
        "  if pattern.match(word):\n",
        "    print(word)\n",
        "\n",
        "# write code"
      ]
    },
    {
      "cell_type": "markdown",
      "metadata": {
        "id": "YvPLBmtpWvv6"
      },
      "source": [
        "#### Problem 1.3\n",
        "\n",
        "Input:\n",
        "```\n",
        "abc\n",
        "abbbbbbbb\n",
        "acc\n",
        "abcbcbcbc\n",
        "ac\n",
        "xzzyyyyzyzzzz\n",
        "accvvvvcvcccc\n",
        " ```\n",
        "\n",
        "Output:\n",
        "```\n",
        "abc\n",
        "abbbbbbbb\n",
        "abcbcbcbc\n",
        "```\n",
        "\n",
        "Note: Use positive strings to define the regular expression."
      ]
    },
    {
      "cell_type": "code",
      "execution_count": 3,
      "metadata": {
        "colab": {
          "base_uri": "https://localhost:8080/"
        },
        "id": "O91H-AuRZZGg",
        "outputId": "1638b175-db72-4788-f82a-04b67ef8d456"
      },
      "outputs": [
        {
          "output_type": "stream",
          "name": "stdout",
          "text": [
            "abc\n",
            "abbbbbbbb\n",
            "abcbcbcbc\n"
          ]
        }
      ],
      "source": [
        "words = ['abc', 'abbbbbbbb', 'acc', 'abcbcbcbc', 'ac', 'xzzyyyyzyzzzz', 'accvvvvcvcccc']\n",
        "pattern = re.compile(\"ab.*\") #same as first and second, why complicate my life?\n",
        "for word in words:\n",
        "  if pattern.match(word):\n",
        "    print(word)\n",
        "\n",
        "# write code"
      ]
    },
    {
      "cell_type": "markdown",
      "metadata": {
        "id": "Sl29e2t8Zfnh"
      },
      "source": [
        "#### Problem 1.4\n",
        "\n",
        "Input:\n",
        "```\n",
        "x. y\n",
        "x?  Y\n",
        "x! y\n",
        "x y\n",
        "x.  Y\n",
        "x Y\n",
        "xY\n",
        "```\n",
        "\n",
        "Ouput:\n",
        "```\n",
        "x. y\n",
        "x?  Y\n",
        "x! y\n",
        "x.  Y\n",
        "```\n"
      ]
    },
    {
      "cell_type": "code",
      "execution_count": 4,
      "metadata": {
        "colab": {
          "base_uri": "https://localhost:8080/"
        },
        "id": "X1pJaNywZedv",
        "outputId": "99fa53b7-6991-4af4-9494-6728621567df"
      },
      "outputs": [
        {
          "output_type": "stream",
          "name": "stdout",
          "text": [
            "x. y\n",
            "x?  Y\n",
            "x! y\n",
            "x.  Y\n"
          ]
        }
      ],
      "source": [
        "words = ['x. y', 'x?  Y', 'x! y', 'x y', 'x.  Y', 'x Y', 'xY']\n",
        "pattern = re.compile(\"x[.?!]+\") #the plus here basically says that x must be followed by at least one punctuation defined in our []\n",
        "for word in words:\n",
        "  if pattern.match(word):\n",
        "    print(word)\n",
        "\n",
        "# write code"
      ]
    },
    {
      "cell_type": "markdown",
      "metadata": {
        "id": "lWCIT3K_wYPH"
      },
      "source": [
        "#### Problem 1.5\n",
        "\n",
        "Input:\n",
        "\n",
        "```\n",
        "<html class=\"client-nojs\" lang=\"en\" dir=\"ltr\">\n",
        "<table class=\"infobox biota\" style=\"text-align: left; width: 200px; font-size: 100%\">\n",
        "<body class=\"ltr sitedir-ltr\">\n",
        "<div id=\"page-base\" class=\"noprint\">\n",
        "<a id=\"top\"></a>\n",
        "```\n",
        "\n",
        "Output:\n",
        "```\n",
        "tags:\n",
        "html\n",
        "table\n",
        "body\n",
        "div\n",
        "a\n",
        "\n",
        "keys:\n",
        "class\n",
        "lang\n",
        "dir\n",
        "style\n",
        "id\n",
        "\n",
        "values:\n",
        "client-nojs; infobox biota; ltr sitedir-ltr; noprint\n",
        "en\n",
        "ltr\n",
        "text-align: left; width: 200px; font-size: 100%\n",
        "page-base; top\n",
        "```\n",
        "\n",
        "Note: For this question, your code must either use either the function [re.group()](https://docs.python.org/3/library/re.html#re.Match.group) or [re.findall()](https://docs.python.org/3/library/re.html#re.findall) to find tags, keys and values. Do not write a separate regular expression for each input line (i.e., your code has to make use of the same regular expression for each line). The output should be exactly as above."
      ]
    },
    {
      "cell_type": "code",
      "execution_count": 72,
      "metadata": {
        "id": "X0FT9S_Jvnbc"
      },
      "outputs": [],
      "source": [
        "input_lines = ['<html class=\"client-nojs\" lang=\"en\" dir=\"ltr\">', '<table class=\"infobox biota\" style=\"text-align: left; width: 200px; font-size: 100%\">', '<body class=\"ltr sitedir-ltr\">', '<div id=\"page-base\" class=\"noprint\">', '<a id=\"top\"></a>']\n",
        "\n",
        "tags, keys, values = [], [], []  # Using a list for tags, a set for unique keys, and a list for values\n",
        "unique_keys = set()\n",
        "value_dict = {}\n",
        "for line in input_lines:\n",
        "    matches = re.findall(r'<(\\w+)|(\\w+)=|\"([^\"]+)\"', line)  # Single regex for tags, keys, values\n",
        "    temp_key = None\n",
        "    for match in matches:\n",
        "        if match[0]:  #get tags\n",
        "            tags.append(match[0])\n",
        "        elif match[1]:  #get kets\n",
        "          temp_key = match[1]\n",
        "          if match[1] not in unique_keys:\n",
        "            keys.append(match[1]) #perserve ordrr\n",
        "            unique_keys.add(match[1])\n",
        "            value_dict[temp_key] = []  #init emoty list for vals\n",
        "        elif match[2]:  #get vals\n",
        "            values.append(match[2])  #store temo to get later\n",
        "            if temp_key:\n",
        "              value_dict[temp_key].append(match[2])#ass value to alst found key"
      ]
    },
    {
      "cell_type": "code",
      "source": [
        "print(\"tags:\\n\" + \"\\n\".join(tags))\n",
        "print(\"\\n\")\n",
        "print(\"keys:\\n\" + \"\\n\".join(keys))  # Maintain the insertion order\n",
        "print(\"\\n\")\n",
        "print(\"values:\")\n",
        "for key, val_list in value_dict.items():\n",
        "    print(\"; \".join(val_list))"
      ],
      "metadata": {
        "colab": {
          "base_uri": "https://localhost:8080/"
        },
        "id": "dA3w8osdE8pw",
        "outputId": "145bd373-fe61-4aa4-92f4-59f1ec7bcb04"
      },
      "execution_count": 80,
      "outputs": [
        {
          "output_type": "stream",
          "name": "stdout",
          "text": [
            "tags:\n",
            "html\n",
            "table\n",
            "body\n",
            "div\n",
            "a\n",
            "\n",
            "\n",
            "keys:\n",
            "class\n",
            "lang\n",
            "dir\n",
            "style\n",
            "id\n",
            "\n",
            "\n",
            "values:\n",
            "client-nojs; infobox biota; ltr sitedir-ltr; noprint\n",
            "en\n",
            "ltr\n",
            "text-align: left; width: 200px; font-size: 100%\n",
            "page-base; top\n"
          ]
        }
      ]
    },
    {
      "cell_type": "markdown",
      "metadata": {
        "id": "0SehLKyuQM4Q"
      },
      "source": [
        "\n",
        "\n",
        "## Problem 2 and 3\n",
        "\n",
        "See https://docs.google.com/document/d/1KRnEequL1kJcngDNOvmTzX5iuy88J8IRWTETujsVgAQ/edit?usp=sharing\n",
        "\n"
      ]
    },
    {
      "cell_type": "code",
      "execution_count": null,
      "metadata": {
        "id": "5HMg52QT9GdI"
      },
      "outputs": [],
      "source": []
    }
  ],
  "metadata": {
    "colab": {
      "provenance": [],
      "include_colab_link": true
    },
    "kernelspec": {
      "display_name": "Python 3",
      "name": "python3"
    }
  },
  "nbformat": 4,
  "nbformat_minor": 0
}